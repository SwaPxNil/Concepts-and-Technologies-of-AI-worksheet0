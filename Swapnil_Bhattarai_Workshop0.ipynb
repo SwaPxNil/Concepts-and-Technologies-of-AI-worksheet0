{
  "cells": [
    {
      "cell_type": "markdown",
      "id": "f35de872-0992-4deb-8c87-0b44845528a6",
      "metadata": {
        "id": "f35de872-0992-4deb-8c87-0b44845528a6"
      },
      "source": [
        "\n",
        "Datasets: The temperatures list contains daily temperature readings in Celsius for one month in Kathmandu. Each day includes three readings representing night (00-08), evening (08-16), and day (16-24) temperatures. Sample Code - List of temperature measured at Tribhuwan International Airport. temperatures = [8.2, 17.4, 14.1, 7.9, 18.0, 13.5, 9.0, 17.8, 13.0, 8.5, 16.5, 12.9, 7.7, 17.2, 13.3, 8.4, 16.7, 14.0, 9.5, 18.3, 13.4, 8.1, 17.9, 14.2, 7.6, 17.0, 12.8, 8.0, 16.8, 13.7, 7.8, 17.5, 13.6, 8.7, 17.1, 13.8, 9.2, 18.1, 13.9, 8.3, 16.4, 12.7, 8.9, 18.2, 13.1, 7.8, 16.6, 12.5]"
      ]
    },
    {
      "cell_type": "markdown",
      "id": "3f7e5d20-7546-4463-b23e-e854fd3e9ccd",
      "metadata": {
        "id": "3f7e5d20-7546-4463-b23e-e854fd3e9ccd"
      },
      "source": [
        "A. Classify Temperatures:\n",
        "1. Create empty lists for temperature classifications:\n",
        "(a) Cold: temperatures below 10°C.\n",
        "(b) Mild: temperatures between 10°C and 15°C.\n",
        "(c) Comfortable: temperatures between 15°C and 20°C.\n",
        "\n",
        "2. Iterate over the temperatures list and add each temperature to the appropriate cate-\n",
        "gory.\n",
        "\n",
        "3. Print the lists to verify the classifications."
      ]
    },
    {
      "cell_type": "code",
      "execution_count": null,
      "id": "c9df0dda-d234-4e4f-b9c0-7b131837ab37",
      "metadata": {
        "id": "c9df0dda-d234-4e4f-b9c0-7b131837ab37",
        "outputId": "726b0712-d58f-4e70-da98-56a40c2b1612"
      },
      "outputs": [
        {
          "name": "stdout",
          "output_type": "stream",
          "text": [
            "Cold Temperature=  [8.2, 7.9, 9.0, 8.5, 7.7, 8.4, 9.5, 8.1, 7.6, 8.0, 7.8, 8.7, 9.2, 8.3, 8.9, 7.8]\n",
            "Mild Temperature=  [14.1, 13.5, 13.0, 12.9, 13.3, 14.0, 13.4, 14.2, 12.8, 13.7, 13.6, 13.8, 13.9, 12.7, 13.1, 12.5]\n",
            "Comfortable Temperature=  [17.4, 18.0, 17.8, 16.5, 17.2, 16.7, 18.3, 17.9, 17.0, 16.8, 17.5, 17.1, 18.1, 16.4, 18.2, 16.6]\n"
          ]
        }
      ],
      "source": [
        "temperatures = [8.2, 17.4, 14.1, 7.9, 18.0, 13.5, 9.0, 17.8, 13.0, 8.5,\n",
        "16.5, 12.9, 7.7, 17.2, 13.3, 8.4, 16.7, 14.0, 9.5, 18.3, 13.4, 8.1,\n",
        "17.9, 14.2, 7.6, 17.0, 12.8, 8.0, 16.8, 13.7, 7.8, 17.5, 13.6, 8.7,\n",
        "17.1, 13.8, 9.2, 18.1, 13.9, 8.3, 16.4, 12.7, 8.9, 18.2, 13.1, 7.8,\n",
        "16.6, 12.5]\n",
        "Cold=[]  #empty list for temp below 10 degree\n",
        "Mild=[]  #empty list for temp between 10 degree and 15 degree\n",
        "Comfortable=[] #empty list for temp between 15 degree and 20 degree\n",
        "\n",
        "for temperature in temperatures:\n",
        "  #according to the condition, adding each temp to the specific category\n",
        "  if(temperature<10):\n",
        "    Cold.append(temperature)\n",
        "  elif((temperature > 10) and (temperature < 15)):\n",
        "    Mild.append(temperature)\n",
        "  else:\n",
        "    Comfortable.append(temperature)\n",
        "\n",
        "#displaying each category of temperature\n",
        "print(\"Cold temperature= \",Cold)\n",
        "print(\"Mild temperature= \",Mild)\n",
        "print(\"Comfortable temperature= \",Comfortable)"
      ]
    },
    {
      "cell_type": "markdown",
      "id": "87c73de3-681d-4642-ac5f-4c1feb9404ee",
      "metadata": {
        "id": "87c73de3-681d-4642-ac5f-4c1feb9404ee"
      },
      "source": [
        "Task 2. Based on Data - Answer all the Questions:\n",
        "1. How many times was it mild?\n",
        "(a) Hint: Count the number of items in the mild list and print the result.\n",
        "2. How many times was it comfortable?\n",
        "3. How many times was it cold?"
      ]
    },
    {
      "cell_type": "code",
      "execution_count": null,
      "id": "37dfb5fa-f3ff-40af-81bc-a888d1663a1a",
      "metadata": {
        "id": "37dfb5fa-f3ff-40af-81bc-a888d1663a1a",
        "outputId": "7a41e0c3-0b1c-44e1-a026-a18d33f09b2a"
      },
      "outputs": [
        {
          "name": "stdout",
          "output_type": "stream",
          "text": [
            "The number of times it was mild= 16\n",
            "The number of times it was comfortable= 16\n",
            "The number of times it was cold= 16\n"
          ]
        }
      ],
      "source": [
        "#printing the length of all items in the lists\n",
        "print(\"The number of times it was mild=\",len(Mild))\n",
        "print(\"The number of times it was comfortable=\",len(Comfortable))\n",
        "print(\"The number of times it was cold=\",len(Cold))"
      ]
    },
    {
      "cell_type": "markdown",
      "id": "ab981e2e-f55b-408e-8ffb-b58754e066e3",
      "metadata": {
        "id": "ab981e2e-f55b-408e-8ffb-b58754e066e3"
      },
      "source": [
        "Task 3. Convert Temperatures from Celsius to Fahrenheit\n",
        "\n",
        "Using the formula for temperature conversion, convert each reading from Celsius to Fahren-\n",
        "heit and store it in a new list called temperatures_fahrenheit.\n",
        "\n",
        "Formula: Fahrenheit = (Celsius ×\n",
        "9/5\n",
        ") + 32\n",
        "\n",
        "1. Iterate over the temperatures list and apply the formula to convert each temperature.\n",
        "2. Store the results in the new list.\n",
        "3. Print the converted Fahrenheit values."
      ]
    },
    {
      "cell_type": "code",
      "execution_count": null,
      "id": "4b5f4642-231e-4fe0-9aae-b5c3860d3c31",
      "metadata": {
        "id": "4b5f4642-231e-4fe0-9aae-b5c3860d3c31",
        "outputId": "2ec1160b-36f1-47a7-b045-601d366e39dd"
      },
      "outputs": [
        {
          "name": "stdout",
          "output_type": "stream",
          "text": [
            "Temperatures in Fahrenheit= [46.76, 63.32, 57.379999999999995, 46.22, 64.4, 56.3, 48.2, 64.04, 55.4, 47.3, 61.7, 55.22, 45.86, 62.959999999999994, 55.94, 47.120000000000005, 62.059999999999995, 57.2, 49.1, 64.94, 56.120000000000005, 46.58, 64.22, 57.56, 45.68, 62.6, 55.04, 46.4, 62.24, 56.66, 46.04, 63.5, 56.48, 47.66, 62.78, 56.84, 48.56, 64.58, 57.02, 46.94, 61.519999999999996, 54.86, 48.02, 64.75999999999999, 55.58, 46.04, 61.88, 54.5]\n"
          ]
        }
      ],
      "source": [
        "Fahrenheit_temperature=[]\n",
        "#iterating over each Celsius temperature in temperatures list\n",
        "for Celsius in temperatures:\n",
        "  Fahrenheit = (Celsius * 9/5 ) + 32\n",
        "  Fahrenheit_temperature.append(Fahrenheit)\n",
        "\n",
        "#printing the list containing temperature in Fahrenheit\n",
        "print(\"Temperatures in Fahrenheit=\",Fahrenheit_temperature)"
      ]
    },
    {
      "cell_type": "markdown",
      "id": "3e916e75-8378-4852-8e8f-695945a5cb0c",
      "metadata": {
        "id": "3e916e75-8378-4852-8e8f-695945a5cb0c"
      },
      "source": [
        "Task 4. Analyze Temperature Patterns by Time of Day:\n",
        "Scenario: Each day’s readings are grouped as:\n",
        "• Night (00-08),\n",
        "• Evening (08-16),\n",
        "• Day (16-24).\n",
        "1. Create empty lists for night, day, and evening temperatures.\n",
        "2. Iterate over the temperatures list, assigning values to each time-of-day list based on\n",
        "their position.\n",
        "3. Calculate and print the average day-time temperature.\n",
        "4. (Optional) Plot ”day vs. temperature” using matplotlib."
      ]
    },
    {
      "cell_type": "code",
      "execution_count": null,
      "id": "bbd3b7b3-2d03-4c69-b204-474bd4bc368e",
      "metadata": {
        "id": "bbd3b7b3-2d03-4c69-b204-474bd4bc368e",
        "outputId": "ef2eff14-b872-4dcc-8d08-0994a6135474"
      },
      "outputs": [
        {
          "name": "stdout",
          "output_type": "stream",
          "text": [
            "Day time temperature= [17.4, 18.0, 17.8, 16.5, 17.2, 16.7, 18.3, 17.9, 17.0, 8.0, 16.8, 17.5, 17.1, 18.1, 16.4, 18.2, 16.6]\n",
            "Evening time temperature= [8.2, 14.1, 13.5, 9.0, 13.0, 8.5, 12.9, 13.3, 8.4, 14.0, 9.5, 13.4, 8.1, 14.2, 12.8, 13.7, 13.6, 8.7, 13.8, 9.2, 13.9, 8.3, 12.7, 8.9, 13.1, 12.5]\n",
            "Night time temperature= [7.9, 7.7, 7.6, 7.8, 7.8]\n",
            "Average of day time temperature= 16.79\n"
          ]
        }
      ],
      "source": [
        "night=[]\n",
        "day=[]\n",
        "evening=[]\n",
        "sum=0\n",
        "#iterating over each temperature in temperatures list\n",
        "for temperature in temperatures:\n",
        "  if(temperature<8):\n",
        "    night.append(temperature)\n",
        "  elif((temperature>8) and (temperature<16)):\n",
        "    evening.append(temperature)\n",
        "  else:\n",
        "    day.append(temperature)\n",
        "for day_temp in day:\n",
        "   sum+=day_temp\n",
        "avg=sum/len(day)\n",
        "print(\"Day time temperature=\",day)\n",
        "print(\"Evening time temperature=\",evening)\n",
        "print(\"Night time temperature=\",night)\n",
        "#printing the formatted value of avg to 2 decimal values\n",
        "print(\"Average of day time temperature=\",format(avg,\".2f\"))"
      ]
    },
    {
      "cell_type": "markdown",
      "id": "2e9f864c-8b40-4e4d-b56b-7114986085f5",
      "metadata": {
        "id": "2e9f864c-8b40-4e4d-b56b-7114986085f5"
      },
      "source": [
        "Exercise - Recursion:\n",
        "Task 1 - Sum of Nested Lists: Scenario: You have a list that contains numbers and other lists of numbers (nested lists). You want to find the total sum of all the numbers in this structure. Task: • Write a recursive function sum_nested_list(nested_list) that:\n",
        "\n",
        "Takes a nested list (a list that can contain numbers or other lists of numbers) as input.\n",
        "Sums all numbers at every depth level of the list, regardless of how deeply nested the numbers are. • Test the function with a sample nested list, such as nested_list = [1, [2, [3, 4], 5], 6, [7, 8]]. The result should be the total sum of all the numbers."
      ]
    },
    {
      "cell_type": "code",
      "execution_count": null,
      "id": "83034c09-597c-4416-9ac2-e292ff629565",
      "metadata": {
        "id": "83034c09-597c-4416-9ac2-e292ff629565",
        "outputId": "3418dbfc-6e8e-4d01-81f6-8e7366edfb29"
      },
      "outputs": [
        {
          "name": "stdout",
          "output_type": "stream",
          "text": [
            "36\n"
          ]
        }
      ],
      "source": [
        "def sum_nested_list(nested_list):\n",
        "  \"\"\"\n",
        "  Calculate the sum of all numbers in a nested list.\n",
        "  This function takes a list that may contain integers and other nested lists.\n",
        "  It recursively traverses the list and sums all the integers, no matter how deeply\n",
        "  nested they are.\n",
        "  Args:\n",
        "  nested_list (list): A list that may contain integers or other lists of integers.\n",
        "  Returns:\n",
        "  int: The total sum of all integers in the nested list, including those in sublists.\n",
        "  \"\"\"\n",
        "  total = 0\n",
        "  for element in nested_list:\n",
        "    if isinstance(element, list): # Check if the element is a list\n",
        "      total += sum_nested_list(element) # Recursively sum the nested list\n",
        "    else:\n",
        "      total += element\n",
        "  return total\n",
        "print(sum_nested_list([1, [2, [3, 4], 5], 6, [7, 8]]))"
      ]
    },
    {
      "cell_type": "markdown",
      "id": "4c9fb1cf-f10d-4423-86e9-36dc69b85cff",
      "metadata": {
        "id": "4c9fb1cf-f10d-4423-86e9-36dc69b85cff"
      },
      "source": [
        "Task 2 - Generate All Permutations of a String:\n",
        "Scenario: Given a string, generate all possible permutations of its characters. This is useful\n",
        "for understanding backtracking and recursive depth-first search.\n",
        "Task:\n",
        "• Write a recursive function generate_permutations(s) that:\n",
        "– Takes a string s as input and returns a list of all unique permutations.\n",
        "• Test with strings like ”abc” and ”aab”.\n",
        "\n",
        "print(generate_permutations(\"abc\"))\n",
        "Should return [’abc’, ’acb’, ’bac’, ’bca’, ’cab’, ’cba’]"
      ]
    },
    {
      "cell_type": "code",
      "execution_count": null,
      "id": "29d00e28-d409-4b2f-96db-50394e2073d5",
      "metadata": {
        "id": "29d00e28-d409-4b2f-96db-50394e2073d5",
        "outputId": "054a6a13-724a-47dd-fac9-04280eb20193"
      },
      "outputs": [
        {
          "name": "stdout",
          "output_type": "stream",
          "text": [
            "Possible permutations of abc= ['abc', 'acb', 'bac', 'bca', 'cab', 'cba']\n",
            "Possible permutations of aab= ['aab', 'aba', 'aab', 'aba', 'baa', 'baa']\n"
          ]
        }
      ],
      "source": [
        "def generate_permutations(string):\n",
        "  \"\"\"\n",
        "  Calculate all the possible permutations of the characters present in a string\n",
        "  This function takes a string as input. It recursively does depth-first search\n",
        "  to generate all possible permutations of the characters of the string.\n",
        "  Args:\n",
        "  string(string): A sequence of characters\n",
        "  Returns:\n",
        "  list: A list of all the unique permutations of the characters present in a string\n",
        "  \"\"\"\n",
        "  #if the length of string is 1 then its permutation is itself only\n",
        "  if len(string) == 1:\n",
        "      return [string]\n",
        "  else:\n",
        "      result = []\n",
        "      for index, character in enumerate(string):\n",
        "          for perm in generate_permutations(string[:index] + string[index+1:])\n",
        "              result.append(character + perm)\n",
        "      return result\n",
        "\n",
        "#printing the list of possible permutations\n",
        "print(\"Possible permutations of abc=\",generate_permutations('abc'))\n",
        "print(\"Possible permutations of aab=\",generate_permutations('aab'))\n"
      ]
    },
    {
      "cell_type": "markdown",
      "id": "357990d0-54bd-4c0d-ac08-2ed1e9874e07",
      "metadata": {
        "id": "357990d0-54bd-4c0d-ac08-2ed1e9874e07"
      },
      "source": [
        "Task 3 - Directory Size Calculation:\n",
        "Directory Size Calculation Scenario: Imagine a file system where directories can contain files\n",
        "(with sizes in KB) and other directories. You want to calculate the total size of a directory,\n",
        "including all nested files and subdirectories.\n",
        "Task:\n",
        "1. Write a recursive function calculate_directory_size(directory) where:\n",
        "• directory is a dictionary where keys represent file names (with values as sizes in\n",
        "\n",
        "KB) or directory names (with values as another dictionary representing a subdi-\n",
        "rectory).\n",
        "\n",
        "• The function should return the total size of the directory, including all nested\n",
        "subdirectories.\n",
        "2. Test the function with a sample directory structure."
      ]
    },
    {
      "cell_type": "code",
      "execution_count": null,
      "id": "1ed14a97-4ba8-44f9-8a8c-fd78f9b8913f",
      "metadata": {
        "id": "1ed14a97-4ba8-44f9-8a8c-fd78f9b8913f",
        "outputId": "2e5714e0-7c46-4445-dd21-358327858905"
      },
      "outputs": [
        {
          "name": "stdout",
          "output_type": "stream",
          "text": [
            "Total size of the directory= 1400\n"
          ]
        }
      ],
      "source": [
        "def calculate_directory_size(directory):\n",
        "  \"\"\"\n",
        "  Calculate the total size of the directory, including all nested files and subdirectories\n",
        "  This function takes a directory as input and returns the total size of the\n",
        "  directory, including all the nested subdirectories.\n",
        "  Args:\n",
        "  directory(dictionary):A dictionary where keys represent file names and values represent\n",
        "  sizes in KB\n",
        "  Returns:\n",
        "  int: Total size of the directory\n",
        "  \"\"\"\n",
        "  total=0\n",
        "  for key,value in directory.items():\n",
        "    if isinstance(value,dict):\n",
        "      total+=calculate_directory_size(value)\n",
        "    else:\n",
        "      total+=value\n",
        "  return total\n",
        "\n",
        "directory_structure = {\n",
        "\"file1.txt\": 200,\n",
        "\"file2.txt\": 300,\n",
        "\"subdir1\": {\n",
        "\"file3.txt\": 400,\n",
        "\"file4.txt\": 100\n",
        "},\n",
        "\"subdir2\": {\n",
        "\"subsubdir1\": {\n",
        "\"file5.txt\": 250\n",
        "},\n",
        "  \"file6.txt\": 150\n",
        "}\n",
        "}\n",
        "\n",
        "#printing the total size\n",
        "print(\"Total size of the directory=\",calculate_directory_size(directory_structure))"
      ]
    },
    {
      "cell_type": "markdown",
      "id": "3f12db4b-e607-40b7-b9c0-040a915396aa",
      "metadata": {
        "id": "3f12db4b-e607-40b7-b9c0-040a915396aa"
      },
      "source": [
        "Exercises - Dynamic Programming:\n",
        "Task 1 - Coin Change Problem: Scenario: Given a set of coin denominations and a target amount, find the minimum number of coins needed to make the amount. If it’s not possible, return - 1. Task:\n",
        "\n",
        "Write a function min_coins(coins, amount) that: • Uses DP to calculate the minimum number of coins needed to make up the amount.\n",
        "Test with coins = [1, 2, 5] and amount = 11. The result should be 3 (using coins [5, 5, 1])."
      ]
    },
    {
      "cell_type": "code",
      "execution_count": null,
      "id": "a24f2e3e-f015-4b4f-bbe8-49fb5c7e5e05",
      "metadata": {
        "id": "a24f2e3e-f015-4b4f-bbe8-49fb5c7e5e05",
        "outputId": "73eef2db-2c90-473b-a64f-178e0d94f165"
      },
      "outputs": [
        {
          "name": "stdout",
          "output_type": "stream",
          "text": [
            "Minimum number of coins required= 3\n"
          ]
        }
      ],
      "source": [
        "def min_coins(coins, amount):\n",
        "  \"\"\"\n",
        "  Finds the minimum number of coins needed to make up a given amount using dynamic\n",
        "  programming.\n",
        "  This function solves the coin change problem by determining the fewest number of\n",
        "  coins from a given set of coin denominations that sum up to a target amount. The\n",
        "  solution uses dynamic programming(tabulation) to iteratively build up the minimum\n",
        "  number of coins required for each amount.\n",
        "  Parameters:\n",
        "  coins (list of int): A list of coin denominations available for making change. Each\n",
        "  coin denomination is a positive integer.\n",
        "  amount (int): The target amount for which we need to find the minimum number of coins\n",
        "  . It must be a non-negative integer.\n",
        "  Returns:\n",
        "  int: The minimum number of coins required to make the given amount.\n",
        "  If it is not possible to make the amount with the given coins, returns -1.\n",
        "  Example:\n",
        "  >>> min_coins([1, 2, 5], 11)\n",
        "  3\n",
        "  >>> min_coins([2], 3)\n",
        "  -1\n",
        "  \"\"\"\n",
        "  dp = [float('inf')] * (amount + 1)\n",
        "  dp[0] = 0\n",
        "  for coin in coins:\n",
        "    for i in range(coin, amount + 1):\n",
        "      dp[i] = min(dp[i], dp[i - coin] + 1)\n",
        "  return dp[amount] if dp[amount] != float('inf') else -1\n",
        "coins=[1,2,5]\n",
        "amount=11\n",
        "print(\"Minimum number of coins required=\",min_coins(coins,amount))"
      ]
    },
    {
      "cell_type": "markdown",
      "id": "4c4a19c0-21ff-4831-880d-3186e5cababd",
      "metadata": {
        "id": "4c4a19c0-21ff-4831-880d-3186e5cababd"
      },
      "source": [
        "Task 2 - Longest Common Subsequence (LCS):\n",
        "Scenario: Given two strings, find the length of their longest common subsequence (LCS).\n",
        "This is useful in text comparison.\n",
        "Task:\n",
        "1. Write a function longest_common_subsequence(s1, s2) that:\n",
        "• Uses DP to find the length of the LCS of two strings s1 and s2.\n",
        "2. Test with strings like \"abcde\" and \"ace\"; the LCS length should be 3 (\"ace\")."
      ]
    },
    {
      "cell_type": "code",
      "execution_count": null,
      "id": "d0bfcce9-e2be-4a79-af79-8f89bba3cb9f",
      "metadata": {
        "id": "d0bfcce9-e2be-4a79-af79-8f89bba3cb9f",
        "outputId": "75c43516-4103-41a4-ce1d-0daaa413d630"
      },
      "outputs": [
        {
          "name": "stdout",
          "output_type": "stream",
          "text": [
            "The longest common subsequence= 3\n"
          ]
        }
      ],
      "source": [
        "def longest_common_subsequence(s1, s2):\n",
        "    \"\"\"\n",
        "    Calculate length of the longest commmon subsequence of the two strings.\n",
        "    This function takes two strings as input and finds the length of their longest\n",
        "    common subsequence.\n",
        "    Args:\n",
        "    s1(string): first string\n",
        "    s2(string):second string\n",
        "    Returns:\n",
        "    int: the length of the longest common subsequence of the provided strings\n",
        "    \"\"\"\n",
        "    m, n = len(s1), len(s2)\n",
        "    # Create a 2D array (m rows and n columns) to store lengths of longest common subsequence.\n",
        "    dp = [[0] * (n + 1) for _ in range(m + 1)]\n",
        "\n",
        "    for i in range(1, m + 1): #outer loop iterating over the rows of dp matrix\n",
        "        for j in range(1, n + 1): #inner loop iterating over the columns of dp matrix\n",
        "            if s1[i - 1] == s2[j - 1]: #if the character of s1 matches the character of s2 at same index\n",
        "            #Subtracting 1 because i and j start at 1 but string indexing starts at 0\n",
        "                dp[i][j] = dp[i - 1][j - 1] + 1  #increase that position in dp matrix by 1\n",
        "                #values are taken diagonally\n",
        "            else:\n",
        "                dp[i][j] = max(dp[i - 1][j], dp[i][j - 1]) #compare the values present in top part and left part, use the max value for that very position\n",
        "\n",
        "    # The length of the LCS is in the bottom-right cell of the array\n",
        "    return dp[m][n]\n",
        "\n",
        "#Example usage:\n",
        "s1 = \"abcde\"\n",
        "s2 = \"ace\"\n",
        "print(\"The longest common subsequence=\",longest_common_subsequence(s1, s2))"
      ]
    },
    {
      "cell_type": "markdown",
      "id": "4e4cb471-d031-411f-b121-067fbb3ef4c3",
      "metadata": {
        "id": "4e4cb471-d031-411f-b121-067fbb3ef4c3"
      },
      "source": [
        "Task 3 - 0/1 Knapsack Problem:\n",
        "Scenario: You have a list of items, each with a weight and a value. Given a weight capacity,\n",
        "maximize the total value of items you can carry without exceeding the weight capacity.\n",
        "Task:\n",
        "1. Write a function knapsack(weights, values, capacity) that:\n",
        "• Uses DP to determine the maximum value that can be achieved within the given\n",
        "weight capacity.\n",
        "\n",
        "2. Test with weights [1, 3, 4, 5], values [1, 4, 5, 7], and capacity 7. The re-\n",
        "sult should be 9."
      ]
    },
    {
      "cell_type": "code",
      "execution_count": null,
      "id": "9d43210f-2ab2-4878-98b6-d0932b97dbc8",
      "metadata": {
        "id": "9d43210f-2ab2-4878-98b6-d0932b97dbc8",
        "outputId": "a331b02f-54e6-4bee-b55e-ecb9171398e6"
      },
      "outputs": [
        {
          "name": "stdout",
          "output_type": "stream",
          "text": [
            "Maximum Value: 5\n"
          ]
        }
      ],
      "source": [
        "def knapsack(weights,values,capacity):\n",
        "  \"\"\"\n",
        "  Calculate the maximum value that can be achieved within the given weight capacity\n",
        "  This function takes weights,values and capacity as input and determines the maximum\n",
        "  total value of items that can be carried without exceeding the weight capacity.\n",
        "  Args:\n",
        "  weights(list): list consisting of weights\n",
        "  values(list) : list consisting of values\n",
        "  capacity(int): weight capacity\n",
        "  Returns:\n",
        "  result(int): maximum value that can be achieved within the given weight capacity\n",
        "  \"\"\"\n",
        "  n = len(weights)\n",
        "\n",
        "  # Create a 2D array with n rows and number of capacity columns\n",
        "  dp = [[0] * (capacity + 1) for _ in range(n + 1)]\n",
        "\n",
        "  # Fill the DP table\n",
        "  for w in range(1, n + 1):\n",
        "      for i in range(1, capacity + 1):\n",
        "          if weights[w - 1] <= i:\n",
        "              dp[w][i] = max(dp[w - 1][i], dp[w - 1][i - weights[w - 1]] + values[w - 1])\n",
        "          else: #if the current item doesn't fit then\n",
        "              dp[w][i] = dp[w - 1][i]\n",
        "\n",
        "  return dp[n][capacity]\n",
        "\n",
        "\n",
        "# using example\n",
        "values = [1,4,5,7]\n",
        "weights = [1,3,4,5]\n",
        "capacity = 7\n",
        "print(\"Maximum Value:\", knapsack(values, weights, capacity))"
      ]
    },
    {
      "cell_type": "code",
      "execution_count": null,
      "id": "da7b2026-33e3-41e6-ab9b-8d7f0b1343c9",
      "metadata": {
        "id": "da7b2026-33e3-41e6-ab9b-8d7f0b1343c9"
      },
      "outputs": [],
      "source": []
    }
  ],
  "metadata": {
    "kernelspec": {
      "display_name": "Python 3 (ipykernel)",
      "language": "python",
      "name": "python3"
    },
    "language_info": {
      "codemirror_mode": {
        "name": "ipython",
        "version": 3
      },
      "file_extension": ".py",
      "mimetype": "text/x-python",
      "name": "python",
      "nbconvert_exporter": "python",
      "pygments_lexer": "ipython3",
      "version": "3.12.7"
    },
    "colab": {
      "provenance": []
    }
  },
  "nbformat": 4,
  "nbformat_minor": 5
}